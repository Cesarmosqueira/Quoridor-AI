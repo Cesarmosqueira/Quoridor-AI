{
 "cells": [
  {
   "cell_type": "markdown",
   "metadata": {},
   "source": [
    "<h1>Algoritmo Bellman Ford</h1><br>\n",
    "<b><i>El algoritmo de Bellman Ford permite hallar caminos más cortos entre un nodo arbitario y todos los nodos que estén antes del nodo de destino porque usa programación dinámica.</i></b><br><br>\n",
    "Como explicamos en el <a href=\"Trabajo_Parcial_Complejidad.ipynb\">informe principal</a>, este algoritmo nos permitirá hallar el camino más corto entre dos puntos en el tablero, tratando a este como una <code>matriz de adyacencia</code>. <br> <p>En este caso demostraremos la utilidad de Bellman Ford en nuestro juego, hallando la distancia más corta entre 2 puntos del grafo.</p>"
   ]
  },
  {
   "cell_type": "code",
   "execution_count": null,
   "metadata": {},
   "outputs": [],
   "source": []
  }
 ],
 "metadata": {
  "kernelspec": {
   "display_name": "Python 3",
   "language": "python",
   "name": "python3"
  },
  "language_info": {
   "codemirror_mode": {
    "name": "ipython",
    "version": 3
   },
   "file_extension": ".py",
   "mimetype": "text/x-python",
   "name": "python",
   "nbconvert_exporter": "python",
   "pygments_lexer": "ipython3",
   "version": "3.8.5"
  }
 },
 "nbformat": 4,
 "nbformat_minor": 4
}
