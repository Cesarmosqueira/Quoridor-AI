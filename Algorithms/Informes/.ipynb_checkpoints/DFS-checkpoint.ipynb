{
 "cells": [
  {
   "cell_type": "markdown",
   "metadata": {},
   "source": [
    "<h1>Algoritmo DFS</h1><br>\n",
    "<b><i>El algoritmo de Depth First Search nos permitirá validar si se puede acceder a todos los nodos</i></b>\n",
    "    <p>Vamos a iterar por todos los casilleros del tablero para ver si ninguno ha sido completamente cerrado por las barreras (cuando hayan). Es decir, vamos a contar que solo hay un componente en el grafo, representado por el tablero</p>\n",
    "    <p>Esto gracias <code>DFS</code> que nos permitirá recorrer los nodos hasta que no se pueda mover a otro lado. Realizaremos esta operacion tantas veces sea posible y llevaremos un contador de dichas veces para contar las componentes del grafo. Debería ser solo una para que el tablero sea valido</p>\n"
   ]
  },
  {
   "cell_type": "markdown",
   "metadata": {},
   "source": [
    "<h2>Definición de recursos e input</h2><br>\n",
    "<p>Para usar DFS usaremos una matriz de nodos visitados y una matriz que almacenará los datos del tablero. <br>\n",
    "El input de datos constará un numero de filas y columnas del tablero y de una matriz de <code>#</code> y <code>.</code> tal como la que se muestra en el output, donde <code>5</code> y <code>5</code> son el numero de filas y columnas.</p>\n",
    "<p>\n",
    "    La funcion <code>valid()</code> se encargará de retornar si el punto dado está en los límites, no ha sido visitado aún según la matriz de visitados y el valor de el tablero en ese punto no es una pared.\n",
    "</p>"
   ]
  },
  {
   "cell_type": "code",
   "execution_count": 1,
   "metadata": {},
   "outputs": [
    {
     "name": "stdout",
     "output_type": "stream",
     "text": [
      "5 5\n",
      "#####\n",
      "#.#.#\n",
      "#.###\n",
      "#...#\n",
      "#####\n"
     ]
    }
   ],
   "source": [
    "h, w = [int(x) for x in input().split()]\n",
    "board = []\n",
    "for i in range(h):\n",
    "    board.append(list(input()))\n",
    "vis = [[False]*w]*w\n",
    "directions = [(1,0),(-1,0),(0,1),(0,-1)]\n",
    "\n",
    "def valid(r,c):\n",
    "    return 0 <= r and r < h and 0 <= c and c < w and board[r][c] != '#' \\\n",
    "           and not vis[r][c]"
   ]
  },
  {
   "cell_type": "markdown",
   "metadata": {},
   "source": [
    "<h2>El algoritmo principal</h2>\n",
    "<p>\n",
    "El <code>DFS</code> va a iterar por todos los nodos partiendo del nodo que se se le dé. A partir de ahí, recorrerá todos los nodos adyacentes, en este caso, las posiciones adyacentes serán definidas por el vector de <code>directions</code> y para evaluar si se debe o no recorrer el nodo adyacente, se usará la funcion <code>valid()</code> explicada anteriormente.\n",
    "</p>\n",
    "<p>En los <code>for</code> fuera de <code>dfs()</code>, crearemos un contador de componentes. Como <code>dfs()</code> recorrerá todos los nodos que estén a su alcance, podemos asumir que dejará como 'visitados' a todos los nodos a los que pueda acceder, y para que el tablero de Quoridor sea valido, tendría que poder acceder a todos los casilleros. En caso el contador de componentes llegue a ser más de 1, se puede decir que el tablero es invalido y no sería necesario seguir usando <code>dfs()</code> en los demás componentes</p>"
   ]
  },
  {
   "cell_type": "code",
   "execution_count": 2,
   "metadata": {},
   "outputs": [
    {
     "name": "stdout",
     "output_type": "stream",
     "text": [
      "Invalid board\n"
     ]
    }
   ],
   "source": [
    "def dfs(r,c):\n",
    "    vis[r][c] = True\n",
    "    for d in directions:\n",
    "        nr, nc = r+d[0], c+d[1]\n",
    "        if valid(nr,nc):\n",
    "            dfs(nr,nc)\n",
    "\n",
    "c = 0\n",
    "flag = False\n",
    "for i in range(h):\n",
    "    for j in range(w):\n",
    "        if valid(i,j):\n",
    "            dfs(i,j)\n",
    "            Flag = True\n",
    "            c+=1\n",
    "\n",
    "if c > 1:\n",
    "    print(\"Invalid board\")\n"
   ]
  },
  {
   "cell_type": "markdown",
   "metadata": {},
   "source": [
    "<h2>Conclusiones</h2><br>\n",
    "<p>    \n",
    "<code>El espacio de búsqueda de DFS</code>en este caso sería el tamaño del tablero. En el caso del ejemplo vendría a ser $40$, es decir $O(m×n)$ debido a que la complejidad de BFS es $O(V+E)$ </p>\n",
    "<p>\n",
    "   Sin embargo como queremos (por ahora) sí o sí recorrer todos los casilleros del tablero, podiamos modificar la función para recorrer llamando al <code>dfs()</code> solo una vez en la primera posición disponible y, si desde allí no logra visitar todos los nodos, es porque el tablero es inválido.</p>\n",
    "<p>\n",
    "    En el Quoridor que vamos a desarrollar, se podrá ingresar la cantidad de <code>filas</code> y <code>columnas</code> que tendrá el tablero, por lo que usar <code>dfs()</code> para validar si éste es valido o no en cada turno, sería algo ineficiente. Quizás podemos llevar el control de los componentes en tiempo real conforme se van agregando las barreras  \n",
    "\n",
    "</p>\n",
    "\n"
   ]
  },
  {
   "cell_type": "code",
   "execution_count": null,
   "metadata": {},
   "outputs": [],
   "source": []
  }
 ],
 "metadata": {
  "kernelspec": {
   "display_name": "Python 3",
   "language": "python",
   "name": "python3"
  },
  "language_info": {
   "codemirror_mode": {
    "name": "ipython",
    "version": 3
   },
   "file_extension": ".py",
   "mimetype": "text/x-python",
   "name": "python",
   "nbconvert_exporter": "python",
   "pygments_lexer": "ipython3",
   "version": "3.7.6"
  }
 },
 "nbformat": 4,
 "nbformat_minor": 4
}
