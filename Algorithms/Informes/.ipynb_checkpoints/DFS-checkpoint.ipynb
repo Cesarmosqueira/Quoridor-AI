{
 "cells": [
  {
   "cell_type": "markdown",
   "metadata": {
    "id": "dkrlrlvr2v1m"
   },
   "source": [
    "<h1>Algoritmo DFS</h1><br>\n",
    "<b><i>El algoritmo de Depth First Search nos permitirá validar si se puede acceder a todos los nodos</i></b>\n",
    "    <p>Vamos a iterar por todos los casilleros del tablero para ver si ninguno ha sido completamente cerrado por las barreras (cuando hayan). Es decir, vamos a contar que solo hay un componente en el grafo, representado por el tablero</p>\n",
    "    <p>Esto gracias <code>DFS</code> que nos permitirá recorrer los nodos hasta que no se pueda mover a otro lado. Realizaremos esta operacion tantas veces sea posible y llevaremos un contador de dichas veces para contar las componentes del grafo. Debería ser solo una para que el tablero sea valido</p>\n"
   ]
  },
  {
   "cell_type": "markdown",
   "metadata": {
    "id": "kd4AFuVh2v1n"
   },
   "source": [
    "<h2>Definición de recursos e input</h2><br>\n",
    "<p>Para usar DFS usaremos una matriz de nodos visitados y una matriz que almacenará los datos del tablero. <br>\n",
    "El input de datos constará un numero de filas y columnas del tablero y de una matriz de <code>#</code> y <code>.</code> tal como la que se muestra en el output, donde <code>5</code> y <code>5</code> son el numero de filas y columnas.</p>\n",
    "<p>\n",
    "    La funcion <code>valid()</code> se encargará de retornar si el punto dado está en los límites, no ha sido visitado aún según la matriz de visitados y el valor de el tablero en ese punto no es una pared.\n",
    "</p>"
   ]
  },
  {
   "cell_type": "code",
   "execution_count": null,
   "metadata": {
    "id": "bwfIlnZw2v1p",
    "outputId": "ab5c79d4-9008-45f3-8ee5-9e3c92085da5"
   },
   "outputs": [
    {
     "name": "stdout",
     "output_type": "stream",
     "text": [
      "5 5\n",
      "#####\n",
      "#.#.#\n",
      "#.###\n",
      "#...#\n",
      "#####\n"
     ]
    }
   ],
   "source": [
    "h, w = [int(x) for x in input().split()]\n",
    "board = []\n",
    "for i in range(h):\n",
    "    board.append(list(input()))\n",
    "vis = [[False]*w]*w\n",
    "directions = [(1,0),(-1,0),(0,1),(0,-1)]\n",
    "\n",
    "def valid(r,c):\n",
    "    return 0 <= r and r < h and 0 <= c and c < w and board[r][c] != '#' \\\n",
    "           and not vis[r][c]"
   ]
  },
  {
   "cell_type": "markdown",
   "metadata": {
    "id": "S_qkZdW22v1y"
   },
   "source": [
    "<h2>El algoritmo principal</h2>\n",
    "<p>\n",
    "El <code>DFS</code> va a iterar por todos los nodos partiendo del nodo que se se le dé. A partir de ahí, recorrerá todos los nodos adyacentes, en este caso, las posiciones adyacentes serán definidas por el vector de <code>directions</code> y para evaluar si se debe o no recorrer el nodo adyacente, se usará la funcion <code>valid()</code> explicada anteriormente.\n",
    "</p>\n",
    "<p>En los <code>for</code> fuera de <code>dfs()</code>, crearemos un contador de componentes. Como <code>dfs()</code> recorrerá todos los nodos que estén a su alcance, podemos asumir que dejará como 'visitados' a todos los nodos a los que pueda acceder, y para que el tablero de Quoridor sea valido, tendría que poder acceder a todos los casilleros. En caso el contador de componentes llegue a ser más de 1, se puede decir que el tablero es invalido y no sería necesario seguir usando <code>dfs()</code> en los demás componentes</p>"
   ]
  },
  {
   "cell_type": "code",
   "execution_count": null,
   "metadata": {
    "id": "igpt1lfV2v11",
    "outputId": "ea0aceee-3e13-4c77-b2a8-8555a9bf64f5"
   },
   "outputs": [
    {
     "name": "stdout",
     "output_type": "stream",
     "text": [
      "Invalid board\n"
     ]
    }
   ],
   "source": [
    "def dfs(r,c):\n",
    "    vis[r][c] = True\n",
    "    for d in directions:\n",
    "        nr, nc = r+d[0], c+d[1]\n",
    "        if valid(nr,nc):\n",
    "            dfs(nr,nc)\n",
    "\n",
    "c = 0\n",
    "flag = False\n",
    "for i in range(h):\n",
    "    for j in range(w):\n",
    "        if valid(i,j):\n",
    "            dfs(i,j)\n",
    "            Flag = True\n",
    "            c+=1\n",
    "\n",
    "if c > 1:\n",
    "    print(\"Invalid board\")\n"
   ]
  },
  {
   "cell_type": "markdown",
   "metadata": {
    "id": "90r7sRQJ2v17"
   },
   "source": [
    "<h2>Conclusiones</h2><br>\n",
    "<p>    \n",
    "<code>El espacio de búsqueda de DFS</code>en este caso sería el tamaño del tablero. En el caso del ejemplo vendría a ser $40$, es decir $O(m×n)$ debido a que la complejidad de BFS es $O(V+E)$ </p>\n",
    "<p>\n",
    "   Sin embargo como queremos (por ahora) sí o sí recorrer todos los casilleros del tablero, podiamos modificar la función para recorrer llamando al <code>dfs()</code> solo una vez en la primera posición disponible y, si desde allí no logra visitar todos los nodos, es porque el tablero es inválido.</p>\n",
    "<p>\n",
    "        En el Quoridor que vamos a desarrollar, se podrá ingresar la cantidad de <code>filas</code> y <code>columnas</code> que tendrá el tablero, por lo que usar <code>dfs()</code> para validar si éste es valido o no en cada turno, sería algo ineficiente. Quizás podemos llevar el control de los componentes en tiempo real conforme se van agregando las barreras o conocer cuáles son los puntos exactos en los que las barreras son inválidas y no usar <code>DFS</code> tan seguido.\n",
    "\n",
    "</p>\n",
    "\n"
   ]
  },
  {
   "cell_type": "markdown",
   "metadata": {
    "id": "XALjW0E_2ys6"
   },
   "source": [
    "<h2>Resolucion del problema con DFS</h2>"
   ]
  },
  {
   "cell_type": "markdown",
   "metadata": {
    "id": "7_Sjp6sA3dhv"
   },
   "source": [
    "<p>En la siguiente demostración se muestra la función que usamos para comprobar si se puede colocar una barrera en el punto <code>r,c</code> brindado. </p>\n",
    "<p>Se realizará la misma operación que en el <code>DFS</code> mostrado arriba, solo que se retornará si la cantidad de los componentes del grafo es igual a $1$. Es decir, si se pueden acceder a todos los casilleros. </p>"
   ]
  },
  {
   "cell_type": "code",
   "execution_count": 7,
   "metadata": {
    "id": "TagHFRnP2v18"
   },
   "outputs": [],
   "source": [
    "def valid_block(board, r, c):\n",
    "    board[r][c] = '#'\n",
    "    dx = [1,-1,0,0]\n",
    "    dy = [0,0,1,-1]\n",
    "    n, m = len(board), len(board[0])\n",
    "\n",
    "    vis = [[False for i in range(m)] for j in range(n)]\n",
    "\n",
    "    def valid(row, col):\n",
    "        return (row >= 0) and (row < n) and (col >= 0) and (col < m) \\\n",
    "            and (board[row][col] != '#') and (not vis[row][col])\n",
    "\n",
    "    def dfs(row, col):\n",
    "        vis[row][col] = True\n",
    "        for i in range(4):\n",
    "            nx = row + dx[i]\n",
    "            ny = col + dy[i]\n",
    "            if valid(nx, ny):\n",
    "                dfs(nx, ny)\n",
    "\n",
    "    rooms = 0\n",
    "    for i in range(n):\n",
    "        for j in range(m):\n",
    "            if (board[i][j] != '#') and (not vis[i][j]):\n",
    "                rooms += 1\n",
    "                dfs(i, j)\n",
    "    \n",
    "    board[r][c] = ' '\n",
    "    return rooms == 1"
   ]
  },
  {
   "cell_type": "markdown",
   "metadata": {
    "id": "rx_R4RAf4U8D"
   },
   "source": [
    "## Medición de tiempos"
   ]
  },
  {
   "cell_type": "markdown",
   "metadata": {
    "id": "Ym3jJ6OZ4b27"
   },
   "source": [
    "<h4>Librerias a usar:</h4>"
   ]
  },
  {
   "cell_type": "code",
   "execution_count": 8,
   "metadata": {
    "id": "HpuSCK9j4cn0"
   },
   "outputs": [],
   "source": [
    "import time\n",
    "import numpy as np\n",
    "from matplotlib import pyplot as plt"
   ]
  },
  {
   "cell_type": "markdown",
   "metadata": {},
   "source": [
    "<h4>Generar matriz aleatoria</h4>"
   ]
  },
  {
   "cell_type": "code",
   "execution_count": 9,
   "metadata": {},
   "outputs": [],
   "source": [
    "def get_random_matrix(n):\n",
    "    mat = np.where(np.random.randint(low = -n, high = n, size=(n,n)) > 0, '#', ' ')\n",
    "    mat[:,[0,-1]] = mat[[0,-1]] = '#'\n",
    "    return mat"
   ]
  },
  {
   "cell_type": "markdown",
   "metadata": {
    "id": "NTUSB67c4sXh"
   },
   "source": [
    "<h4>Mostrar grafico con los tiempos:</h4>"
   ]
  },
  {
   "cell_type": "code",
   "execution_count": 13,
   "metadata": {
    "id": "8qRXHCng4s8c"
   },
   "outputs": [
    {
     "name": "stdout",
     "output_type": "stream",
     "text": [
      "10 values took 0.0s\n",
      "366 values took 0.384s\n",
      "722 values took 1.278s\n",
      "1079 values took 3.251s\n",
      "1435 values took 5.59s\n",
      "1792 values took 8.322s\n",
      "2148 values took 11.111s\n",
      "2505 values took 15.627s\n",
      "2861 values took 20.612s\n",
      "3217 values took 26.279s\n",
      "3574 values took 33.316s\n",
      "3930 values took 40.276s\n",
      "4287 values took 41.477s\n",
      "4643 values took 49.288s\n",
      "5000 values took 57.91s\n"
     ]
    },
    {
     "data": {
      "image/png": "[encoded data removed]",
      "text/plain": [
       "<Figure size 432x288 with 1 Axes>"
      ]
     },
     "metadata": {
      "needs_background": "light"
     },
     "output_type": "display_data"
    }
   ],
   "source": [
    "def show_graph():\n",
    "  \n",
    "    tests = np.linspace(10,5000,15,dtype=np.int32)\n",
    "    results = []\n",
    "    time_measured = []\n",
    "    for n in tests:\n",
    "        print(n, \"values took\", end = \" \")\n",
    "        random_mat = get_random_matrix(n)\n",
    "        rpx,rpy = np.random.randint(low = 1, high = n-1, size=2)\n",
    "        \n",
    "        start = time.time()\n",
    "        results.append(valid_block(random_mat, rpx, rpy))\n",
    "        end = time.time()\n",
    "        time_measured.append(end-start)\n",
    "        print(f\"{np.round(end-start, decimals=3)}s\")\n",
    "    plt.plot(tests, time_measured)\n",
    "    \n",
    "    \n",
    "    plt.legend(('DFS'), prop = {'size': 10}, loc='upper left')\n",
    "\n",
    "    plt.xlabel('Tamaño de NxN')\n",
    "    plt.ylabel('Tiempo')\n",
    "    plt.title('Representacion de tiempos')\n",
    "    plt.show()\n",
    "\n",
    "show_graph()\n"
   ]
  },
  {
   "cell_type": "code",
   "execution_count": null,
   "metadata": {},
   "outputs": [],
   "source": []
  },
  {
   "cell_type": "code",
   "execution_count": null,
   "metadata": {},
   "outputs": [],
   "source": []
  }
 ],
 "metadata": {
  "colab": {
   "name": "DFS.ipynb",
   "provenance": []
  },
  "kernelspec": {
   "display_name": "Python 3",
   "language": "python",
   "name": "python3"
  },
  "language_info": {
   "codemirror_mode": {
    "name": "ipython",
    "version": 3
   },
   "file_extension": ".py",
   "mimetype": "text/x-python",
   "name": "python",
   "nbconvert_exporter": "python",
   "pygments_lexer": "ipython3",
   "version": "3.7.6"
  }
 },
 "nbformat": 4,
 "nbformat_minor": 1
}
