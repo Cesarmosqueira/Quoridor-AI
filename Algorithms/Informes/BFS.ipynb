{
 "cells": [
  {
   "cell_type": "markdown",
   "metadata": {},
   "source": [
    "<h1>Algoritmo BFS</h1><br>\n",
    "<b><i>El algoritmo de breadth first search permite iterar grafos de manera iremos en orden de profundidad. Es decir, empezaremos por los nodos adyacentes a la raíz 'S' del grafo y luego analizaremos los nodos adyacentes a ellos.</i></b><br><br>\n",
    "Como explicamos en el <a href=\"Trabajo_Parcial_Complejidad.ipynb\">informe principal</a>, este algoritmo nos permitirà hallar el camino más corto entre dos puntos en el tablero (Más útil cuando hay barreras). <br> En este caso demostraremos la utilidad de BFS en nuestro juego, hallando el camino más corto entre 2 puntos dado un laberinto resolviendo un problema que se puede encontrar en <a href=\"https://cses.fi/problemset/task/1193\">cses.fi</a>.\n"
   ]
  },
  {
   "cell_type": "markdown",
   "metadata": {},
   "source": [
    "<h2>Definición de recursos e input</h2><br>\n",
    "Para usar BFS usaremos una queue y también nos servirá tener una lista con las direcciones a las que podremos movernos <br>\n",
    "El input de datos constará un numero de filas y columnas del tablero y de una matriz de <code>#</code> y <code>.</code> tal como la que se muestra en el output.\n",
    "\n",
    "Donde <code>5</code> y <code>8</code> son el numero de filas y columnas y, <code>A</code> y <code>B</code> son el punto de partida y final\n",
    "\n",
    "<br>\n",
    "También definiremos una matriz que nos servirá de registro de movimientos(<code>move_reg</code>), en donde sabremos si los nodos ya fueron visitados o son parte del camino más corto actual. Donde se representará cada movimiento como numeros entre $1$ y $4$."
   ]
  },
  {
   "cell_type": "code",
   "execution_count": 6,
   "metadata": {},
   "outputs": [
    {
     "name": "stdout",
     "output_type": "stream",
     "text": [
      "5 8\n",
      "########\n",
      "#.A#...#\n",
      "#.##.#B#\n",
      "#......#\n",
      "########\n"
     ]
    }
   ],
   "source": [
    "from collections import deque\n",
    "dx = [1, -1, 0, 0]\n",
    "dy = [0, 0, 1, -1]\n",
    "\n",
    "n, m = [int(x) for x in input().split()] \n",
    "\n",
    "board = [[] for x in range(n)] \n",
    "\n",
    "start, end = (-1, -1), (-1, -1)\n",
    "for i in range(n):\n",
    "    board[i] = list(input())\n",
    "    for j in range(m):\n",
    "        if board[i][j] == 'A':\n",
    "            start = (i, j)\n",
    "        if board[i][j] == 'B':\n",
    "            end = (i, j)\n",
    "move_reg = [[-1 for y in range(m)] for x in range(n)] \n",
    "\n",
    "move_reg[start[0]][start[1]] = -2\n",
    "q = deque([start])\n"
   ]
  },
  {
   "cell_type": "markdown",
   "metadata": {},
   "source": [
    "<h2>Funciones adicionales</h2>\n",
    "<br><code>valid(int,int)</code> se encarga de validar que la posición brindada no esté fuera de los limites, ni sea pared y no haya sido visitada aún.\n",
    "<br><br>\n",
    "Y <code>reconstruct_path()</code> se encargará ayudarnos a visualizar el camino encontrado mostrando un <code>+</code> en el camino más corto. Es importante recalcar que para esto se dependerá del <code>registro de movimientos</code> que es modificado en la función <code>bfs()</code> definida más abajo, y de acuerdo a los movimientos que se encuentre, se dibujará el <code>+</code> y se moverá en dirección opuesta a la que indica el camino más corto al punto B. <br><br>En el caso de este ejemplo, solo tratamos de demostrar la eficiencia de este algoritmo para llegar al camino más corto. Sin embargo, en otros casos se realizarán acciones más complejas que señalar el camino. "
   ]
  },
  {
   "cell_type": "code",
   "execution_count": 8,
   "metadata": {},
   "outputs": [],
   "source": [
    "def valid(row, col):\n",
    "    return 0 <= row and row < n and 0 <= col and col < m and board[row][col] != '#' and move_reg[row][col] == -1\n",
    "\n",
    "def reconstruct_path():\n",
    "    r, c  = end\n",
    "    while move_reg[r][c] >= 0:\n",
    "        i = move_reg[r][c] \n",
    "        r -= dx[i]\n",
    "        c -= dy[i]\n",
    "        board[r][c] =  'A' if board[r][c] == 'A' else '+'\n"
   ]
  },
  {
   "cell_type": "markdown",
   "metadata": {},
   "source": [
    "<h2>El algoritmo principal</h2>\n",
    "<p>\n",
    "<code>BFS</code> iterará por los nodos hasta encontrar el camino más corto. Almacenaremos primer nodo <code>A</code> en la primera posición de la queue y recorreremos todos sus 'hijos' que en este caso serían las posiciones disponibles adyacentes y los añadiremos a la cola para recorrerlos más adelante.\n",
    "</p>\n",
    "Cuándo el nodo actual sea el nodo <code>B</code> sabremos que hemos llegado al final de la forma más rápida y si la queue llegara a estar completamente vacía, nos daríamos cuenta de que no hay un camino disponible de <code>A</code> a <code>B</code>"
   ]
  },
  {
   "cell_type": "code",
   "execution_count": 9,
   "metadata": {},
   "outputs": [],
   "source": [
    "def bfs():\n",
    "    flag = False\n",
    "    while len(q):\n",
    "        r, c = q.popleft()\n",
    "        if (r, c) == end:\n",
    "            reconstruct_path()\n",
    "            flag = True\n",
    "            break\n",
    "        for i in range(4):\n",
    "            nr, nc = r + dx[i], c + dy[i]\n",
    "            if valid(nr, nc):\n",
    "                move_reg[nr][nc] = i\n",
    "                q.append((nr, nc))\n",
    "\n",
    "    if not flag: print(\"No suitable path\")\n",
    "    else:\n",
    "        for i in board: print(i)"
   ]
  },
  {
   "cell_type": "code",
   "execution_count": 2,
   "metadata": {},
   "outputs": [
    {
     "name": "stdout",
     "output_type": "stream",
     "text": [
      "5 8\n",
      "########\n",
      "#.A#...#\n",
      "#.##.#B#\n",
      "#......#\n",
      "########\n",
      "['#', '#', '#', '#', '#', '#', '#', '#']\n",
      "['#', '+', 'A', '#', '.', '.', '.', '#']\n",
      "['#', '+', '#', '#', '.', '#', 'B', '#']\n",
      "['#', '+', '+', '+', '+', '+', '+', '#']\n",
      "['#', '#', '#', '#', '#', '#', '#', '#']\n"
     ]
    }
   ],
   "source": [
    "bfs()"
   ]
  },
  {
   "cell_type": "markdown",
   "metadata": {},
   "source": [
    "<h2>Conclusiones</h2><br>\n",
    "<p>    \n",
    "<code>El espacio de busqueda de BFS</code>en este caso sería el tamaño del tablero. En el caso del ejemplo vendría a ser $40$, es decir $O(m×n)$ debido a que la complejidad de BFS es $O(V+E)$ (Argumentado en el <a href=\"Trabajo_Parcial_Complejidad.ipynb\">informe principal</a>) .</p>\n",
    "<p>\n",
    "    Sin embargo, como queremos buscar el camino más corto entre <code>A</code> y <code>B</code>, es muy probable que encontremos dicho camino antes de haber recorrido todos los nodos y el algoritmo termine, haciéndolo mucho más eficiente.</p>\n",
    "\n",
    "<p>\n",
    "    En el Quoridor que vamos a desarrollar, se podrá ingresar la cantidad de <code>filas</code> y <code>columnas</code> que tendrá el tablero, por lo que será necesario buscar la forma de optimizar <code>BFS</code>. Por ejemplo llevar control de soluciones optimas previas. Quizás si un nodo ya fue visitado y el camino actual ha recorrido menos distancia y el nodo en cuestión no aportaría nada, no habría razón de visitarlo y ampliar nuestro <code>espacio de busqueda</code></p>\n",
    "\n"
   ]
  },
  {
   "cell_type": "markdown",
   "metadata": {},
   "source": [
    "<h2>Como nos acercamos al problema con BFS</h2>"
   ]
  },
  {
   "cell_type": "markdown",
   "metadata": {},
   "source": [
    "<p>Debido a las restricciones que tiene el movimiento en Quoridor, el proceso de acceso a los <code>nodos adyacentes</code>tiene algunos cambios.</p>\n",
    "<p>Principalmente, ahora lo que necesitamos es la siguiente <b>posición</b> a la que se debe dirigir el jugador. Entonces lo que hace la funcion <code>get_next_move()</code> es, una vez obtenido el camino más corto y haberlo almacenado en el registro de movimientos al igual que en el primer ejemplo, usar la funcion <code>reconstruct_path()</code> para recorrerlo en reverso y llevar control de la última posición accedida hasta antes de llegar a la posición inicial y así obtener el <b>siguiente movimiento</b> que deberá realizar el jugador.</p>\n",
    "<p>La mayoría de lineas adicionales se deben a la validación de las excepciones de movimiento que se explican en el <a href=\"Trabajo_Parcial_Complejidad.ipynb\"> infomre principal</a></p>\n",
    "\n",
    "<p>Con respecto a los parametros de la función, <code>board</code> hace referencia a la matriz del juego donde se almacena todo, <code>side</code> es el lado en el que se encuentra el jugador y asumir que desea llegar al lado opuesto y <code>startpoint</code> es la posición del jugador, para que la función no pierda el tiempo buscando dónde empezar el <code>BFS</code></p>"
   ]
  },
  {
   "cell_type": "code",
   "execution_count": 50,
   "metadata": {},
   "outputs": [],
   "source": [
    "from collections import deque\n",
    "def get_next_move(board, side, startpoint): ## side == True = UP else DOWN \n",
    "    dx = [1, -1, 0, 0] ## R L D U\n",
    "    dy = [0, 0, 1, -1]\n",
    "               #       (UR UL DR DL)\n",
    "    diagonals = [(-1,1), (-1,-1), (1,1), (1,-1)]\n",
    "    n, m = len(board), len(board[0])\n",
    "    if side:\n",
    "        original = board[-1]\n",
    "        board[-1] = ['W' if board[-1][x] == ' ' or board[-1][x] == '#' else board[-1][x] for x in range(m)]\n",
    "    else: \n",
    "        original = board[0]\n",
    "        board[0] = ['W' if board[0][x] == ' ' or board[0][x] == '#' else board[0][x] for x in range(m)]\n",
    "\n",
    "    q = deque([startpoint])\n",
    "    move_reg = [[-1 for y in range(m)] for x in range(n)] \n",
    "    \n",
    "\n",
    "    def valid(row, col):\n",
    "        return 0 <= row and row < n and 0 <= col and col < m and move_reg[row][col] == -1 and board[row][col] != '#'\n",
    "\n",
    "    def reconstruct_path(r, c):\n",
    "        last = [r,c]\n",
    "        while move_reg[r][c] >= 0:\n",
    "            i = move_reg[r][c] \n",
    "            if i < 4:\n",
    "                r -= dx[i]\n",
    "                c -= dy[i]\n",
    "            elif i < 8:\n",
    "                r -= 2*dx[i%4]\n",
    "                c -= 2*dy[i%4]\n",
    "            else: \n",
    "                i %= 4\n",
    "                r -= diagonals[i][0]\n",
    "                c -= diagonals[i][1]\n",
    "            if (r,c) == startpoint:\n",
    "                return last\n",
    "            else: last = [r-1,c-1]\n",
    "        return -1, -1\n",
    "            \n",
    "\n",
    "    while len(q):\n",
    "        r, c = q.popleft()\n",
    "        if board[r][c] == 'W':\n",
    "            if side: board[-1] = original\n",
    "            else: board[0] = original\n",
    "            return reconstruct_path(r,c)\n",
    "            break\n",
    "        for i in range(4):\n",
    "            nr, nc = r + dx[i], c + dy[i]\n",
    "            if valid(nr, nc):\n",
    "                if board[nr][nc] == 'X' or board[nr][nc] == 'O':    \n",
    "                    if(valid(nr+dx[i],nc+dy[i])):\n",
    "                        q.append((nr+dx[i],nc+dy[i]))\n",
    "                        move_reg[nr+dx[i]][nc+dy[i]] = i+4\n",
    "                    else:\n",
    "                        #      (UR UL DR DL)\n",
    "                        #  (-1,1), (-1,-1), (1,1), (1,-1)\n",
    "                        if dx[i] == 0:\n",
    "                            if valid(r+dy[i],c+1):      \n",
    "                                q.append((r+dy[i],c+1))  \n",
    "                                move_reg[r+dy[i]][c+1] = 8 + (0 if dy[i] == -1 else 2)\n",
    "\n",
    "                            if valid(r+dy[i],c-1):      \n",
    "                                q.append((r+dy[i],c-1))    \n",
    "                                move_reg[r+dy[i]][c-1] = 8 + (1 if dy[i] == -1 else 3)\n",
    "\n",
    "                        if dy[i] == 0:\n",
    "                            if valid(r+1,c+dx[i]): \n",
    "                                q.append((r+1,c+dx[i]))\n",
    "                                move_reg[r+1][c+dx[i]] = 8 + (3 if dx[i] == -1 else 2)\n",
    "\n",
    "                            if valid(r-1,c+dx[i]): \n",
    "                                q.append((r-1,c+dx[i]))\n",
    "                                move_reg[r-1][c+dx[i]] = 8 + (1 if dx[i] == -1 else 0)\n",
    "\n",
    "                else:\n",
    "                    move_reg[nr][nc] = i\n",
    "                    q.append((nr, nc))\n",
    "                    "
   ]
  },
  {
   "cell_type": "markdown",
   "metadata": {},
   "source": [
    "<h2>Medicion de tiempos</h2>"
   ]
  },
  {
   "cell_type": "markdown",
   "metadata": {},
   "source": [
    "<h4>Matriz Aleatoria</h4>\n"
   ]
  },
  {
   "cell_type": "code",
   "execution_count": 68,
   "metadata": {},
   "outputs": [],
   "source": [
    "import time\n",
    "import numpy as np\n",
    "from random import getrandbits\n",
    "from matplotlib import pyplot as plt\n",
    "\n",
    "def get_random_matrix(n):\n",
    "    np.random.seed(np.random.randint(low=1,high=42))\n",
    "    mat =np.full((n,n), ' ')\n",
    "    mat[:,[0,-1]] = mat[[0,-1]] = '#'\n",
    "    pos1, pos2 = [0,0],[0,0]\n",
    "    while np.array_equal(pos1, pos2):\n",
    "        pos1, pos2 = np.random.randint(low = 1, high = n-1, size=2),np.random.randint(low = 1, high = n-1, size=2) \n",
    "    mat[pos1[0],pos1[1]] = 'O';mat[pos2[0],pos2[1]] = 'X';\n",
    "    return mat, (pos1[0], pos1[1]), (pos2[0], pos2[1])"
   ]
  },
  {
   "cell_type": "markdown",
   "metadata": {},
   "source": [
    "<h4>Graficar tiempos</h4>\n",
    "<p>Debido a que las posiciones son aleatorias, el tiempo que tarda <code>BFS</code> en hallar el camino más corto puede variar. <br>Tomar en cuenta que se está considerando los saltos diagonales y dobles cuando hay 'colisión' entre fichas, en beneficio del camino más corto.</p>"
   ]
  },
  {
   "cell_type": "code",
   "execution_count": 71,
   "metadata": {},
   "outputs": [
    {
     "name": "stdout",
     "output_type": "stream",
     "text": [
      "10 values took 0.0s\n",
      "366 values took 0.816s\n",
      "722 values took 3.331s\n",
      "1079 values took 0.045s\n",
      "1435 values took 10.301s\n",
      "1792 values took 10.742s\n",
      "2148 values took 2.115s\n",
      "2505 values took 39.187s\n",
      "2861 values took 35.455s\n",
      "3217 values took 9.695s\n",
      "3574 values took 18.788s\n",
      "3930 values took 99.075s\n",
      "4287 values took 59.145s\n",
      "4643 values took 114.263s\n",
      "5000 values took 5.362s\n",
      "[[0, 3], [354, 206], [144, 390], [1065, 950], [930, 1104], [820, 1342], [1815, 1607], [1736, 1295], [1415, 1283], [2488, 709], [2542, 1608], [1065, 1993], [1983, 931], [2670, 2191], [594, 4838]]\n"
     ]
    },
    {
     "data": {
      "image/png": "[encoded data removed]",
      "text/plain": [
       "<Figure size 432x288 with 1 Axes>"
      ]
     },
     "metadata": {
      "needs_background": "light"
     },
     "output_type": "display_data"
    }
   ],
   "source": [
    "tests = np.linspace(10,5000,15,dtype=np.int32)\n",
    "results = []\n",
    "time_measured = []\n",
    "for n in tests:\n",
    "    print(n, \"values took\", end = \" \")\n",
    "    random_mat, posO, posX= get_random_matrix(n)    \n",
    "    side = bool(getrandbits(1))\n",
    "    start = time.time()\n",
    "    results.append(get_next_move(random_mat,side, posX if side else posO))\n",
    "    end = time.time()\n",
    "    time_measured.append(end-start)\n",
    "    print(f\"{np.round(end-start, decimals=3)}s\")\n",
    "print(results)\n",
    "plt.plot(tests, time_measured)\n",
    "plt.show()"
   ]
  },
  {
   "cell_type": "code",
   "execution_count": null,
   "metadata": {},
   "outputs": [],
   "source": []
  }
 ],
 "metadata": {
  "kernelspec": {
   "display_name": "Python 3",
   "language": "python",
   "name": "python3"
  },
  "language_info": {
   "codemirror_mode": {
    "name": "ipython",
    "version": 3
   },
   "file_extension": ".py",
   "mimetype": "text/x-python",
   "name": "python",
   "nbconvert_exporter": "python",
   "pygments_lexer": "ipython3",
   "version": "3.7.6"
  }
 },
 "nbformat": 4,
 "nbformat_minor": 4
}
