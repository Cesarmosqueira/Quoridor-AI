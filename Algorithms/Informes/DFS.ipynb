{
  "nbformat": 4,
  "nbformat_minor": 0,
  "metadata": {
    "kernelspec": {
      "display_name": "Python 3",
      "language": "python",
      "name": "python3"
    },
    "language_info": {
      "codemirror_mode": {
        "name": "ipython",
        "version": 3
      },
      "file_extension": ".py",
      "mimetype": "text/x-python",
      "name": "python",
      "nbconvert_exporter": "python",
      "pygments_lexer": "ipython3",
      "version": "3.7.6"
    },
    "colab": {
      "name": "DFS.ipynb",
      "provenance": []
    }
  },
  "cells": [
    {
      "cell_type": "markdown",
      "metadata": {
        "id": "dkrlrlvr2v1m"
      },
      "source": [
        "<h1>Algoritmo DFS</h1><br>\n",
        "<b><i>El algoritmo de Depth First Search nos permitirá validar si se puede acceder a todos los nodos</i></b>\n",
        "    <p>Vamos a iterar por todos los casilleros del tablero para ver si ninguno ha sido completamente cerrado por las barreras (cuando hayan). Es decir, vamos a contar que solo hay un componente en el grafo, representado por el tablero</p>\n",
        "    <p>Esto gracias <code>DFS</code> que nos permitirá recorrer los nodos hasta que no se pueda mover a otro lado. Realizaremos esta operacion tantas veces sea posible y llevaremos un contador de dichas veces para contar las componentes del grafo. Debería ser solo una para que el tablero sea valido</p>\n"
      ]
    },
    {
      "cell_type": "markdown",
      "metadata": {
        "id": "kd4AFuVh2v1n"
      },
      "source": [
        "<h2>Definición de recursos e input</h2><br>\n",
        "<p>Para usar DFS usaremos una matriz de nodos visitados y una matriz que almacenará los datos del tablero. <br>\n",
        "El input de datos constará un numero de filas y columnas del tablero y de una matriz de <code>#</code> y <code>.</code> tal como la que se muestra en el output, donde <code>5</code> y <code>5</code> son el numero de filas y columnas.</p>\n",
        "<p>\n",
        "    La funcion <code>valid()</code> se encargará de retornar si el punto dado está en los límites, no ha sido visitado aún según la matriz de visitados y el valor de el tablero en ese punto no es una pared.\n",
        "</p>"
      ]
    },
    {
      "cell_type": "code",
      "metadata": {
        "id": "bwfIlnZw2v1p",
        "outputId": "ab5c79d4-9008-45f3-8ee5-9e3c92085da5"
      },
      "source": [
        "h, w = [int(x) for x in input().split()]\n",
        "board = []\n",
        "for i in range(h):\n",
        "    board.append(list(input()))\n",
        "vis = [[False]*w]*w\n",
        "directions = [(1,0),(-1,0),(0,1),(0,-1)]\n",
        "\n",
        "def valid(r,c):\n",
        "    return 0 <= r and r < h and 0 <= c and c < w and board[r][c] != '#' \\\n",
        "           and not vis[r][c]"
      ],
      "execution_count": null,
      "outputs": [
        {
          "output_type": "stream",
          "text": [
            "5 5\n",
            "#####\n",
            "#.#.#\n",
            "#.###\n",
            "#...#\n",
            "#####\n"
          ],
          "name": "stdout"
        }
      ]
    },
    {
      "cell_type": "markdown",
      "metadata": {
        "id": "S_qkZdW22v1y"
      },
      "source": [
        "<h2>El algoritmo principal</h2>\n",
        "<p>\n",
        "El <code>DFS</code> va a iterar por todos los nodos partiendo del nodo que se se le dé. A partir de ahí, recorrerá todos los nodos adyacentes, en este caso, las posiciones adyacentes serán definidas por el vector de <code>directions</code> y para evaluar si se debe o no recorrer el nodo adyacente, se usará la funcion <code>valid()</code> explicada anteriormente.\n",
        "</p>\n",
        "<p>En los <code>for</code> fuera de <code>dfs()</code>, crearemos un contador de componentes. Como <code>dfs()</code> recorrerá todos los nodos que estén a su alcance, podemos asumir que dejará como 'visitados' a todos los nodos a los que pueda acceder, y para que el tablero de Quoridor sea valido, tendría que poder acceder a todos los casilleros. En caso el contador de componentes llegue a ser más de 1, se puede decir que el tablero es invalido y no sería necesario seguir usando <code>dfs()</code> en los demás componentes</p>"
      ]
    },
    {
      "cell_type": "code",
      "metadata": {
        "id": "igpt1lfV2v11",
        "outputId": "ea0aceee-3e13-4c77-b2a8-8555a9bf64f5"
      },
      "source": [
        "def dfs(r,c):\n",
        "    vis[r][c] = True\n",
        "    for d in directions:\n",
        "        nr, nc = r+d[0], c+d[1]\n",
        "        if valid(nr,nc):\n",
        "            dfs(nr,nc)\n",
        "\n",
        "c = 0\n",
        "flag = False\n",
        "for i in range(h):\n",
        "    for j in range(w):\n",
        "        if valid(i,j):\n",
        "            dfs(i,j)\n",
        "            Flag = True\n",
        "            c+=1\n",
        "\n",
        "if c > 1:\n",
        "    print(\"Invalid board\")\n"
      ],
      "execution_count": null,
      "outputs": [
        {
          "output_type": "stream",
          "text": [
            "Invalid board\n"
          ],
          "name": "stdout"
        }
      ]
    },
    {
      "cell_type": "markdown",
      "metadata": {
        "id": "90r7sRQJ2v17"
      },
      "source": [
        "<h2>Conclusiones</h2><br>\n",
        "<p>    \n",
        "<code>El espacio de búsqueda de DFS</code>en este caso sería el tamaño del tablero. En el caso del ejemplo vendría a ser $40$, es decir $O(m×n)$ debido a que la complejidad de BFS es $O(V+E)$ </p>\n",
        "<p>\n",
        "   Sin embargo como queremos (por ahora) sí o sí recorrer todos los casilleros del tablero, podiamos modificar la función para recorrer llamando al <code>dfs()</code> solo una vez en la primera posición disponible y, si desde allí no logra visitar todos los nodos, es porque el tablero es inválido.</p>\n",
        "<p>\n",
        "    En el Quoridor que vamos a desarrollar, se podrá ingresar la cantidad de <code>filas</code> y <code>columnas</code> que tendrá el tablero, por lo que usar <code>dfs()</code> para validar si éste es valido o no en cada turno, sería algo ineficiente. Quizás podemos llevar el control de los componentes en tiempo real conforme se van agregando las barreras  \n",
        "\n",
        "</p>\n",
        "\n"
      ]
    },
    {
      "cell_type": "markdown",
      "metadata": {
        "id": "XALjW0E_2ys6"
      },
      "source": [
        "## Resolucion del problema con DFS"
      ]
    },
    {
      "cell_type": "markdown",
      "metadata": {
        "id": "7_Sjp6sA3dhv"
      },
      "source": [
        "En esta funcion se valida si puedes poner una bloque o no (esta funcion es para poder demostrar como funciona el DFS):"
      ]
    },
    {
      "cell_type": "code",
      "metadata": {
        "id": "TagHFRnP2v18"
      },
      "source": [
        "def valid_block(board, r, c):\n",
        "    board[r][c] = '#'\n",
        "    dx = [1,-1,0,0]\n",
        "    dy = [0,0,1,-1]\n",
        "    n, m = len(board), len(board[0])\n",
        "\n",
        "    vis = [[False for i in range(m)] for j in range(n)]\n",
        "\n",
        "    def valid(row, col):\n",
        "        return (row >= 0) and (row < n) and (col >= 0) and (col < m) \\\n",
        "            and (board[row][col] != '#') and (not vis[row][col])\n",
        "\n",
        "    def dfs(row, col):\n",
        "        vis[row][col] = True\n",
        "        for i in range(4):\n",
        "            nx = row + dx[i]\n",
        "            ny = col + dy[i]\n",
        "            if valid(nx, ny):\n",
        "                dfs(nx, ny)\n",
        "\n",
        "    rooms = 0\n",
        "    for i in range(n):\n",
        "        for j in range(m):\n",
        "            if (board[i][j] != '#') and (not vis[i][j]):\n",
        "                rooms += 1\n",
        "                dfs(i, j)\n",
        "    \n",
        "    board[r][c] = ' '\n",
        "    return rooms == 1"
      ],
      "execution_count": null,
      "outputs": []
    },
    {
      "cell_type": "markdown",
      "metadata": {
        "id": "rx_R4RAf4U8D"
      },
      "source": [
        "## Medición de tiempos"
      ]
    },
    {
      "cell_type": "markdown",
      "metadata": {
        "id": "Ym3jJ6OZ4b27"
      },
      "source": [
        "Librerias a usar:"
      ]
    },
    {
      "cell_type": "code",
      "metadata": {
        "id": "HpuSCK9j4cn0"
      },
      "source": [
        "import time\n",
        "from matplotlib import pyplot as plt"
      ],
      "execution_count": null,
      "outputs": []
    },
    {
      "cell_type": "markdown",
      "metadata": {
        "id": "F9B4rlwT4hYU"
      },
      "source": [
        "Función para medir tiempos:"
      ]
    },
    {
      "cell_type": "code",
      "metadata": {
        "id": "B4ujClZt4jfv"
      },
      "source": [
        "def measure_time(dfs):\n",
        "  start = time.time()\n",
        "  dfs('''faltan los parametros''')\n",
        "  end = time.time()\n",
        "  return end - start"
      ],
      "execution_count": null,
      "outputs": []
    },
    {
      "cell_type": "markdown",
      "metadata": {
        "id": "NTUSB67c4sXh"
      },
      "source": [
        "Mostrar grafico con los tiempo:"
      ]
    },
    {
      "cell_type": "code",
      "metadata": {
        "id": "8qRXHCng4s8c"
      },
      "source": [
        "def show_graph(dfs_algo):\n",
        "  n = [9, 100, 1000, 10000]\n",
        "  dfs     = [measure_time(dfs_algo), measure_time(dfs_algo), measure_time(dfs_algo), measure_time(dfs_algo)]\n",
        "\n",
        "  plt.plot(n, dfs)\n",
        "  plt.legend(('DFS'), prop = {'size': 10}, loc='upper left')\n",
        "\n",
        "  plt.xlabel('Tamaño de NxN')\n",
        "  plt.ylabel('Tiempo')\n",
        "  plt.title('Representacion de tiempos')\n",
        "  plt.show()"
      ],
      "execution_count": null,
      "outputs": []
    }
  ]
}