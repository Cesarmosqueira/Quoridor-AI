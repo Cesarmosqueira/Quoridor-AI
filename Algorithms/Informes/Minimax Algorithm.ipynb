{
 "cells": [
  {
   "cell_type": "markdown",
   "metadata": {},
   "source": [
    "<h1>Algoritmo Minimax</h1><br>\n",
    "<b><i>Minimax es un algoritmo que se basa en <code>backtracking</code> para calcular todos los posibles escenarios en un espacio de busqueda. El cual en este caso serían las decisiones que los jugadores pueden tomar.</i></b><br><br>\n",
    "Como explicamos en el <a href=\"Trabajo_Parcial_Complejidad.ipynb\">informe principal</a>, este algoritmo sería usado para la toma de decisiones de los jugadores en Quoridor. Sin embargo, esta es una demostración del algoritmo utilizando Tres en Linea.\n"
   ]
  },
  {
   "cell_type": "markdown",
   "metadata": {},
   "source": [
    "<h2>Funciones Básicas del juego</h2>"
   ]
  },
  {
   "cell_type": "markdown",
   "metadata": {},
   "source": [
    "<h3>Funciones Auxiliares</h3>"
   ]
  },
  {
   "cell_type": "code",
   "execution_count": 6,
   "metadata": {},
   "outputs": [],
   "source": [
    "def valid_move(board, pos):\n",
    "    if len(pos) == 2:\n",
    "        if not(0 <= pos[0] and pos[0] < 3 and 0 <= pos[1] and pos[1] < 3):\n",
    "            print(pos, \"Out of bounds\"); return False\n",
    "        if not(board[pos[0]][pos[1]] == ' '):\n",
    "            print(pos, \"Is occupied\"); return False\n",
    "        return True\n",
    "\n",
    "def print_winner(winner):\n",
    "    print(f\"Winner is {'X' if winner == 1 else 'O'}!\\n\")\n",
    "\n",
    "def pb(board): #print_board\n",
    "    for i in board: print(i)"
   ]
  },
  {
   "cell_type": "markdown",
   "metadata": {},
   "source": [
    "<h3>Validar ganadores</h3><br>\n",
    "Es necesario tomar en cuenta que se está tomando los valores de $-1$ y $1$ para representar cuál de los jugadores es el que gana en cada caso. <br>De no ser ninguno retorna $0$.<br>\n",
    "También prestar atención a la funcion <code>check_winner()</code>. Su nombre explica su función pero esta retornará una tupla, cuyo <code>primer componente</code> será un bool que definirá si el juego termina o no, ya sea porque se empató o uno de los jugadores ganó y su <code>segunda componente</code> será un valor: $-1$, $0$ o $1$, que representará el estado actual del movimiento. Servirá para identificar quién fue el que ganó si la primera componente retorna <code>True</code> y para ver si la 'AI' se acerca al resultado deseado. "
   ]
  },
  {
   "cell_type": "code",
   "execution_count": 10,
   "metadata": {},
   "outputs": [],
   "source": [
    "def check_rows(board): \n",
    "    for row in board:\n",
    "        if not ' ' in row:\n",
    "            if not 'X' in row: return -1\n",
    "            if not 'O' in row: return 1\n",
    "    return 0\n",
    "def check_cols(board):\n",
    "    for i in range(3):\n",
    "        col = [row[i] for row in board]\n",
    "        if not ' ' in col:\n",
    "            if not 'X' in col: return -1\n",
    "            if not 'O' in col: return 1\n",
    "    return 0\n",
    "def check_diagonals(board):\n",
    "    d1 = []\n",
    "    d2 = []\n",
    "    for i in range(3):\n",
    "        d1.append(board[i][i])\n",
    "        d2.append(board[2-i][i])\n",
    "    if not ' ' in d1:\n",
    "            if not 'X' in d1: return -1\n",
    "            if not 'O' in d1: return 1\n",
    "    if not ' ' in d2:\n",
    "            if not 'X' in d2: return -1\n",
    "            if not 'O' in d2: return 1\n",
    "    return 0    \n",
    "def check_winner(board): ### True continues\n",
    "    ###  1 = 'X'\n",
    "    ### -1 = 'O'\n",
    "    winner = check_rows(board)\n",
    "    if winner != 0: return False, winner\n",
    "    winner = check_cols(board)\n",
    "    if winner != 0: return False, winner\n",
    "    winner = check_diagonals(board)\n",
    "    if winner != 0: return False, winner\n",
    "    else: #draw or continue\n",
    "        ### board is full\n",
    "        if any(' ' in row for row in board): return True, 0 ## continue\n",
    "        else: return False, 0 ## stops"
   ]
  },
  {
   "cell_type": "markdown",
   "metadata": {},
   "source": [
    "<h2>El algoritmo principal</h2><br>\n",
    "Minimax es un algoritmo que se basa en <code>un solo puntaje</code>, el cual los jugadores tratan de <b>maximizar o minimizar</b> de acuerdo a su conveniencia. En el caso de nuestra IA (la 'O'), el valor que usamos para definir su victoria es el $-1$, por lo tanto le conviene que el puntaje general disminuya ya sea a $0$ o a $-1$ y minimax iterará por todos los posibles movimientos y luego los movimientos posibles luego de cada uno de esos movimientos hasta que se pierda, gane o empate y de acuerdo a eso, volver al estado actual y retornar el puntaje del juego.<br>\n",
    "<br><b>Puntaje el cual</b> será tomado en cuenta por la función <code>get_best_move()</code>, que retornará la posición en la que la 'IA' deberá marcar. Se iterará por toda la tabla y se usará el concepto de <code>backtracking</code> para seguir el juego y luego eliminar los cambios realizados, luego de calcular el valor de <code>Minimax</code> en ese movimiento. Luego de haber calculado todos los posibles puntajes en cada movimiento, se elegirá (en este caso) el menor. "
   ]
  },
  {
   "cell_type": "code",
   "execution_count": 8,
   "metadata": {},
   "outputs": [],
   "source": [
    "def minimax(board, maximizing): #### status (bool(continue/stop), int([-1,1]: W,T,L))\n",
    "    status = check_winner(board)\n",
    "    if status[0] == False:\n",
    "        return status[1] ## W/L/T case\n",
    "    if maximizing:\n",
    "        best_score = float('-inf')\n",
    "        for i in range(3):\n",
    "            for j in range(3):\n",
    "                if board[i][j] == ' ':\n",
    "                    board[i][j] = 'X'\n",
    "                    best_score = max(minimax(board,False), best_score)\n",
    "                    board[i][j] = ' '    \n",
    "        return best_score\n",
    "\n",
    "    else:\n",
    "        best_score = float('inf')           \n",
    "        for i in range(3):\n",
    "            for j in range(3):\n",
    "                if board[i][j] == ' ':\n",
    "                    board[i][j] = 'O'\n",
    "                    best_score = min(minimax(board, True), best_score)\n",
    "                    board[i][j] = ' ' \n",
    "        return best_score\n",
    "\n",
    "def get_best_move(board): ### for O\n",
    "    best_score = float('inf')\n",
    "    new_move = []\n",
    "    for i in range(3):\n",
    "        for j in range(3):\n",
    "            if board[i][j] == ' ':\n",
    "                board[i][j] = 'O'\n",
    "                s = minimax(board, True)\n",
    "                if s < best_score:\n",
    "                    best_score = s\n",
    "                    new_move = [i,j]                \n",
    "                board[i][j] = ' '\n",
    "    return new_move"
   ]
  },
  {
   "cell_type": "markdown",
   "metadata": {},
   "source": [
    "<h3>Iniciar el juego</h3><br>\n",
    "En las siguientes lineas lo único que pasa es la inicialización de las variables y un while donde se iterará mientras el juego no haya empatado ni ganado. Y dentro se pedirá el input del jugador o caso contrario la mejor posición que puede tomar el oponente de acuerdo a lo que indicaron las funciones previas. <br><b> En el output se demuestra el funcionamiento </b>"
   ]
  },
  {
   "cell_type": "code",
   "execution_count": 9,
   "metadata": {},
   "outputs": [
    {
     "name": "stdout",
     "output_type": "stream",
     "text": [
      "\n",
      "Ai's turn:\n",
      "['O', ' ', ' ']\n",
      "[' ', ' ', ' ']\n",
      "[' ', ' ', ' ']\n",
      "\n",
      "Player's turn: 1 2\n",
      "['O', ' ', ' ']\n",
      "[' ', ' ', 'X']\n",
      "[' ', ' ', ' ']\n",
      "\n",
      "Ai's turn:\n",
      "['O', ' ', 'O']\n",
      "[' ', ' ', 'X']\n",
      "[' ', ' ', ' ']\n",
      "\n",
      "Player's turn: 0 1\n",
      "['O', 'X', 'O']\n",
      "[' ', ' ', 'X']\n",
      "[' ', ' ', ' ']\n",
      "\n",
      "Ai's turn:\n",
      "['O', 'X', 'O']\n",
      "[' ', 'O', 'X']\n",
      "[' ', ' ', ' ']\n",
      "\n",
      "Player's turn: 2 2\n",
      "['O', 'X', 'O']\n",
      "[' ', 'O', 'X']\n",
      "[' ', ' ', 'X']\n",
      "\n",
      "Ai's turn:\n",
      "['O', 'X', 'O']\n",
      "[' ', 'O', 'X']\n",
      "['O', ' ', 'X']\n",
      "Winner is O!\n",
      "\n"
     ]
    }
   ],
   "source": [
    "from random import getrandbits\n",
    "board = [[' ',' ',' '],\n",
    "         [' ',' ',' '],\n",
    "         [' ',' ',' ']]\n",
    "\n",
    "ai = [-1,-1]\n",
    "player = [-1,-1]\n",
    "turn = bool(getrandbits(1)) ### turn 1 ai turn -1 player\n",
    "\n",
    "while check_winner(board)[0]:\n",
    "    print()\n",
    "    if turn: \n",
    "        print(\"Player's turn:\", end = \" \")\n",
    "        player = [int(x) for x in input().split()]\n",
    "        if valid_move(board,player): board[player[0]][player[1]] = 'X'\n",
    "        else: turn = not turn\n",
    "    else: \n",
    "        print(\"Ai's turn:\", end = \"\\n\")\n",
    "        ai = get_best_move(board)\n",
    "        if valid_move(board,ai): board[ai[0]][ai[1]] = 'O'\n",
    "        else: turn = not turn\n",
    "\n",
    "    pb(board)\n",
    "    w = check_winner(board)\n",
    "    if w[0] == False: \n",
    "        if w[1] != 0: print_winner(w[1])\n",
    "        else: print(\"Draw!\")\n",
    "    turn = not turn"
   ]
  },
  {
   "cell_type": "markdown",
   "metadata": {},
   "source": [
    "<h2>Conclusiones</h2><br>\n",
    "    \n",
    "<code>El espacio de busqueda de Minimax</code>en este caso no se aprecia tanto. Se podría optimizar bastante salteando el cálculo cuándo la 'AI' tiene el primer turno y elegir una de las esquinas o el centro, puesto que cuando las 9 casillas están libres.<br>\n",
    "<br><b>Por otro lado</b>, la complejidad de minimax usado en otros casos como Quoridor, presentaría un problema, porque vendría a ser $O(b^m)$ siendo $m$ las posibles decisiones y $b$ la cantidad de veces que se iteraría. Entonces deberiamos usar un concepto conocido como <code>Alpha Beta prunning</code> explicado mejor en el <a href=\"Trabajo_Parcial_Complejidad.ipynb\">informe principal</a>.\n",
    "\n",
    "<br>\n",
    "En Quoridor el espacio de búsqueda será mucho mayor y tendremos la posibilidad de tomar 2 decisiones, movernos o colocar una barrera, por lo tanto necesitaremos hacer lo más eficiente el algoritmo de minimax. \n"
   ]
  },
  {
   "cell_type": "code",
   "execution_count": null,
   "metadata": {},
   "outputs": [],
   "source": []
  }
 ],
 "metadata": {
  "kernelspec": {
   "display_name": "Python 3",
   "language": "python",
   "name": "python3"
  },
  "language_info": {
   "codemirror_mode": {
    "name": "ipython",
    "version": 3
   },
   "file_extension": ".py",
   "mimetype": "text/x-python",
   "name": "python",
   "nbconvert_exporter": "python",
   "pygments_lexer": "ipython3",
   "version": "3.7.6"
  }
 },
 "nbformat": 4,
 "nbformat_minor": 4
}
